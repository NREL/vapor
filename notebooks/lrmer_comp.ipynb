{
 "cells": [
  {
   "cell_type": "code",
   "execution_count": 45,
   "metadata": {},
   "outputs": [],
   "source": [
    "# copied from viz_bnef_results\n",
    "import os\n",
    "os.chdir(os.pardir)\n",
    "\n",
    "import matplotlib\n",
    "import matplotlib.pyplot as plt\n",
    "import matplotlib.ticker as mtick\n",
    "import seaborn as sns\n",
    "import matplotlib.patches as mpatches\n",
    "import pandas as pd\n",
    "\n",
    "import vapor\n",
    "from vapor.models import Cambium"
   ]
  },
  {
   "cell_type": "code",
   "execution_count": 49,
   "metadata": {},
   "outputs": [
    {
     "data": {
      "text/plain": [
       "'/lustre/eaglefs/projects/vapor/vapor-open'"
      ]
     },
     "execution_count": 49,
     "metadata": {},
     "output_type": "execute_result"
    }
   ],
   "source": [
    "os.getcwd()"
   ]
  },
  {
   "cell_type": "code",
   "execution_count": 50,
   "metadata": {},
   "outputs": [],
   "source": [
    "# --- Load Regional Best ---\n",
    "results = pd.read_pickle(os.path.join('results','bnef_results_newtb.pkl'))\n",
    "results['scenario'] = 'Mid Cost'\n",
    "results['batt_size'] = 0\n",
    "results.rename({'geometry':'point', 'region':'pca'}, axis='columns', inplace=True)"
   ]
  },
  {
   "cell_type": "code",
   "execution_count": 51,
   "metadata": {},
   "outputs": [],
   "source": [
    "# --- Merge on Regions ---\n",
    "region_map = pd.read_csv(os.path.join('data','geography','region_hierarchy.csv'))\n",
    "region_map = region_map[['pca','rto','census_reg','inter']].drop_duplicates()\n",
    "\n",
    "census_reg_dict = {\n",
    "    'PA':'West',\n",
    "    'MTN':'West',\n",
    "    'ENC':'Midwest',\n",
    "    'WNC':'Midwest',\n",
    "    'WSC':'South',\n",
    "    'MA':'Northeast',\n",
    "    'NE':'Northeast',\n",
    "    'ESC':'South',\n",
    "    'SA':'South'\n",
    "}\n",
    "region_map['census_div'] = region_map['census_reg'].map(census_reg_dict)\n",
    "\n",
    "df = results.merge(region_map, on='pca', how='left')\n"
   ]
  },
  {
   "cell_type": "code",
   "execution_count": 14,
   "metadata": {},
   "outputs": [
    {
     "data": {
      "text/html": [
       "<div>\n",
       "<style scoped>\n",
       "    .dataframe tbody tr th:only-of-type {\n",
       "        vertical-align: middle;\n",
       "    }\n",
       "\n",
       "    .dataframe tbody tr th {\n",
       "        vertical-align: top;\n",
       "    }\n",
       "\n",
       "    .dataframe thead th {\n",
       "        text-align: right;\n",
       "    }\n",
       "</style>\n",
       "<table border=\"1\" class=\"dataframe\">\n",
       "  <thead>\n",
       "    <tr style=\"text-align: right;\">\n",
       "      <th></th>\n",
       "      <th>pca</th>\n",
       "      <th>rto</th>\n",
       "      <th>census_reg</th>\n",
       "      <th>inter</th>\n",
       "      <th>census_div</th>\n",
       "      <th>project_id</th>\n",
       "      <th>tech</th>\n",
       "      <th>system_capacity</th>\n",
       "      <th>variable</th>\n",
       "      <th>value</th>\n",
       "      <th>year</th>\n",
       "      <th>value_mw</th>\n",
       "    </tr>\n",
       "  </thead>\n",
       "  <tbody>\n",
       "    <tr>\n",
       "      <th>0</th>\n",
       "      <td>p122</td>\n",
       "      <td>rto12</td>\n",
       "      <td>MA</td>\n",
       "      <td>eastern</td>\n",
       "      <td>Northeast</td>\n",
       "      <td>607</td>\n",
       "      <td>wind</td>\n",
       "      <td>4500.0</td>\n",
       "      <td>cambium_portfolio_value</td>\n",
       "      <td>5.757466</td>\n",
       "      <td>2020</td>\n",
       "      <td>1.279437</td>\n",
       "    </tr>\n",
       "    <tr>\n",
       "      <th>2</th>\n",
       "      <td>p82</td>\n",
       "      <td>rto6</td>\n",
       "      <td>ENC</td>\n",
       "      <td>eastern</td>\n",
       "      <td>Midwest</td>\n",
       "      <td>1502</td>\n",
       "      <td>wind</td>\n",
       "      <td>9000.0</td>\n",
       "      <td>cambium_portfolio_value</td>\n",
       "      <td>3.874997</td>\n",
       "      <td>2020</td>\n",
       "      <td>0.430555</td>\n",
       "    </tr>\n",
       "    <tr>\n",
       "      <th>3</th>\n",
       "      <td>p53</td>\n",
       "      <td>rto8</td>\n",
       "      <td>WNC</td>\n",
       "      <td>eastern</td>\n",
       "      <td>Midwest</td>\n",
       "      <td>2691</td>\n",
       "      <td>wind</td>\n",
       "      <td>10000.0</td>\n",
       "      <td>cambium_portfolio_value</td>\n",
       "      <td>0.000000</td>\n",
       "      <td>2020</td>\n",
       "      <td>0.000000</td>\n",
       "    </tr>\n",
       "    <tr>\n",
       "      <th>4</th>\n",
       "      <td>p62</td>\n",
       "      <td>rto10</td>\n",
       "      <td>WSC</td>\n",
       "      <td>texas</td>\n",
       "      <td>South</td>\n",
       "      <td>4775</td>\n",
       "      <td>wind</td>\n",
       "      <td>90800.0</td>\n",
       "      <td>cambium_portfolio_value</td>\n",
       "      <td>0.000000</td>\n",
       "      <td>2020</td>\n",
       "      <td>0.000000</td>\n",
       "    </tr>\n",
       "    <tr>\n",
       "      <th>5</th>\n",
       "      <td>p10</td>\n",
       "      <td>rto4</td>\n",
       "      <td>PA</td>\n",
       "      <td>western</td>\n",
       "      <td>West</td>\n",
       "      <td>4776</td>\n",
       "      <td>wind</td>\n",
       "      <td>58800.0</td>\n",
       "      <td>cambium_portfolio_value</td>\n",
       "      <td>0.000000</td>\n",
       "      <td>2020</td>\n",
       "      <td>0.000000</td>\n",
       "    </tr>\n",
       "  </tbody>\n",
       "</table>\n",
       "</div>"
      ],
      "text/plain": [
       "    pca    rto census_reg    inter census_div project_id  tech  \\\n",
       "0  p122  rto12         MA  eastern  Northeast        607  wind   \n",
       "2   p82   rto6        ENC  eastern    Midwest       1502  wind   \n",
       "3   p53   rto8        WNC  eastern    Midwest       2691  wind   \n",
       "4   p62  rto10        WSC    texas      South       4775  wind   \n",
       "5   p10   rto4         PA  western       West       4776  wind   \n",
       "\n",
       "   system_capacity                 variable     value  year  value_mw  \n",
       "0           4500.0  cambium_portfolio_value  5.757466  2020  1.279437  \n",
       "2           9000.0  cambium_portfolio_value  3.874997  2020  0.430555  \n",
       "3          10000.0  cambium_portfolio_value  0.000000  2020  0.000000  \n",
       "4          90800.0  cambium_portfolio_value  0.000000  2020  0.000000  \n",
       "5          58800.0  cambium_portfolio_value  0.000000  2020  0.000000  "
      ]
     },
     "execution_count": 14,
     "metadata": {},
     "output_type": "execute_result"
    }
   ],
   "source": [
    "years = [str(i) for i in range(2014,2051,1)]\n",
    "cambium_cols = [i for i in df.columns if 'cambium' in i]\n",
    "cambium_cols = [i for i in cambium_cols if i[-4:] in years]\n",
    "\n",
    "\n",
    "# --- subset cambium columns ---\n",
    "c_df = df[cambium_cols + list(region_map.columns) + ['project_id','tech','system_capacity']]\n",
    "\n",
    "# --- melt ---\n",
    "c_df = c_df.melt(id_vars= list(region_map.columns) +['project_id','tech','system_capacity'])\n",
    "c_df['year'] = [int(i[-4:]) for i in c_df['variable']]\n",
    "c_df['variable'] = [str(i[:-5]) for i in c_df['variable']]\n",
    "\n",
    "c_df['value_mw'] = c_df['value'] / c_df['system_capacity'] * 1000\n",
    "c_df.drop_duplicates(inplace=True)\n",
    "c_df.head(5)"
   ]
  },
  {
   "cell_type": "code",
   "execution_count": 56,
   "metadata": {},
   "outputs": [
    {
     "data": {
      "text/plain": [
       "\"pca','rto','census_reg','inter','census_div','project_id','tech','system_capacity','variable','value','year','value_mw\""
      ]
     },
     "execution_count": 56,
     "metadata": {},
     "output_type": "execute_result"
    }
   ],
   "source": [
    "\"','\".join(c_df.columns)"
   ]
  },
  {
   "cell_type": "markdown",
   "metadata": {},
   "source": [
    "### NOTE: oddity\n",
    "Results show:\n",
    "* solar pv typically offsets lower emissions when using lrmer vs avg (_to be expected_)\n",
    "* wind typically offsets _higher_ emissions using lrmer vs. avg"
   ]
  },
  {
   "cell_type": "code",
   "execution_count": 13,
   "metadata": {},
   "outputs": [
    {
     "data": {
      "text/html": [
       "<div>\n",
       "<style scoped>\n",
       "    .dataframe tbody tr th:only-of-type {\n",
       "        vertical-align: middle;\n",
       "    }\n",
       "\n",
       "    .dataframe tbody tr th {\n",
       "        vertical-align: top;\n",
       "    }\n",
       "\n",
       "    .dataframe thead th {\n",
       "        text-align: right;\n",
       "    }\n",
       "</style>\n",
       "<table border=\"1\" class=\"dataframe\">\n",
       "  <thead>\n",
       "    <tr style=\"text-align: right;\">\n",
       "      <th></th>\n",
       "      <th>inter</th>\n",
       "      <th>tech</th>\n",
       "      <th>value_avg</th>\n",
       "      <th>value_lrmer</th>\n",
       "      <th>perc_diff</th>\n",
       "    </tr>\n",
       "  </thead>\n",
       "  <tbody>\n",
       "    <tr>\n",
       "      <th>0</th>\n",
       "      <td>eastern</td>\n",
       "      <td>pv</td>\n",
       "      <td>13040.921018</td>\n",
       "      <td>10773.017887</td>\n",
       "      <td>17.390667</td>\n",
       "    </tr>\n",
       "    <tr>\n",
       "      <th>1</th>\n",
       "      <td>eastern</td>\n",
       "      <td>wind</td>\n",
       "      <td>56147.001519</td>\n",
       "      <td>99038.139839</td>\n",
       "      <td>-76.390791</td>\n",
       "    </tr>\n",
       "    <tr>\n",
       "      <th>2</th>\n",
       "      <td>texas</td>\n",
       "      <td>pv</td>\n",
       "      <td>40446.074322</td>\n",
       "      <td>31894.742015</td>\n",
       "      <td>21.142552</td>\n",
       "    </tr>\n",
       "    <tr>\n",
       "      <th>3</th>\n",
       "      <td>texas</td>\n",
       "      <td>wind</td>\n",
       "      <td>23183.103945</td>\n",
       "      <td>51459.955335</td>\n",
       "      <td>-121.971810</td>\n",
       "    </tr>\n",
       "    <tr>\n",
       "      <th>4</th>\n",
       "      <td>western</td>\n",
       "      <td>pv</td>\n",
       "      <td>8343.975948</td>\n",
       "      <td>7842.109560</td>\n",
       "      <td>6.014715</td>\n",
       "    </tr>\n",
       "    <tr>\n",
       "      <th>5</th>\n",
       "      <td>western</td>\n",
       "      <td>wind</td>\n",
       "      <td>10696.147098</td>\n",
       "      <td>11357.664145</td>\n",
       "      <td>-6.184629</td>\n",
       "    </tr>\n",
       "  </tbody>\n",
       "</table>\n",
       "</div>"
      ],
      "text/plain": [
       "     inter  tech     value_avg   value_lrmer   perc_diff\n",
       "0  eastern    pv  13040.921018  10773.017887   17.390667\n",
       "1  eastern  wind  56147.001519  99038.139839  -76.390791\n",
       "2    texas    pv  40446.074322  31894.742015   21.142552\n",
       "3    texas  wind  23183.103945  51459.955335 -121.971810\n",
       "4  western    pv   8343.975948   7842.109560    6.014715\n",
       "5  western  wind  10696.147098  11357.664145   -6.184629"
      ]
     },
     "execution_count": 13,
     "metadata": {},
     "output_type": "execute_result"
    }
   ],
   "source": [
    "temp_lrmer = c_df.loc[\\\n",
    "         (c_df['variable'] == 'cambium_co2_rate_lrmer') &\\\n",
    "         (c_df['year'] == 2020)\\\n",
    "        ].groupby(['inter', 'tech'], as_index=False)['value'].mean()\n",
    "temp_avg = c_df.loc[\\\n",
    "         (c_df['variable'] == 'cambium_co2_rate_avg') &\\\n",
    "         (c_df['year'] == 2020)\\\n",
    "        ].groupby(['inter', 'tech'], as_index=False)['value'].mean()\n",
    "temp_comb = temp_avg.merge(temp_lrmer, on=['inter', 'tech'], suffixes=('_avg', '_lrmer'))\n",
    "temp_comb['perc_diff'] = ((temp_comb['value_avg'] - temp_comb['value_lrmer'])/temp_comb['value_avg'])*100\n",
    "temp_comb"
   ]
  },
  {
   "cell_type": "code",
   "execution_count": 85,
   "metadata": {},
   "outputs": [],
   "source": [
    "temp_lrmer = c_df.loc[\\\n",
    "         (c_df['variable'] == 'cambium_co2_rate_lrmer') &\\\n",
    "         (c_df['year'] == 2020)\\\n",
    "        ]\n",
    "temp_avg = c_df.loc[\\\n",
    "         (c_df['variable'] == 'cambium_co2_rate_avg') &\\\n",
    "         (c_df['year'] == 2020)\\\n",
    "        ]\n",
    "merge_cols = ['pca','rto','census_reg','inter','census_div','project_id','tech','system_capacity','year']\n",
    "temp_comb = temp_avg.drop(columns=['variable', 'value_mw']).merge(temp_lrmer.drop(columns=['variable', 'value_mw']), \n",
    "                           on= merge_cols, \n",
    "                           suffixes=('_avg', '_lrmer'))"
   ]
  },
  {
   "cell_type": "code",
   "execution_count": 86,
   "metadata": {},
   "outputs": [
    {
     "data": {
      "text/plain": [
       "<seaborn.axisgrid.FacetGrid at 0x7f55fbd56f70>"
      ]
     },
     "execution_count": 86,
     "metadata": {},
     "output_type": "execute_result"
    },
    {
     "data": {
      "image/png": "[encoded data removed]",
      "text/plain": [
       "<Figure size 815.125x360 with 2 Axes>"
      ]
     },
     "metadata": {
      "needs_background": "light"
     },
     "output_type": "display_data"
    }
   ],
   "source": [
    "sns.relplot(\n",
    "    data= temp_comb.melt(id_vars= merge_cols), x=\"system_capacity\", y=\"value\",\n",
    "    col=\"tech\", hue=\"variable\",kind=\"scatter\"\n",
    ")\n",
    "#sns.scatterplot(data=temp_comb.loc[temp_comb.tech=='wind'], x=\"system_capacity\", y=\"value\", hue=\"variable\")"
   ]
  },
  {
   "cell_type": "code",
   "execution_count": 92,
   "metadata": {},
   "outputs": [],
   "source": [
    "temp_comb['perc_diff'] = (temp_comb['value_avg']/temp_comb['system_capacity'] -\\\n",
    "                          temp_comb['value_lrmer']/temp_comb['system_capacity'])/(temp_comb['value_avg']/temp_comb['system_capacity'])"
   ]
  },
  {
   "cell_type": "code",
   "execution_count": 93,
   "metadata": {},
   "outputs": [
    {
     "data": {
      "text/html": [
       "<div>\n",
       "<style scoped>\n",
       "    .dataframe tbody tr th:only-of-type {\n",
       "        vertical-align: middle;\n",
       "    }\n",
       "\n",
       "    .dataframe tbody tr th {\n",
       "        vertical-align: top;\n",
       "    }\n",
       "\n",
       "    .dataframe thead th {\n",
       "        text-align: right;\n",
       "    }\n",
       "</style>\n",
       "<table border=\"1\" class=\"dataframe\">\n",
       "  <thead>\n",
       "    <tr style=\"text-align: right;\">\n",
       "      <th></th>\n",
       "      <th>pca</th>\n",
       "      <th>rto</th>\n",
       "      <th>census_reg</th>\n",
       "      <th>inter</th>\n",
       "      <th>census_div</th>\n",
       "      <th>project_id</th>\n",
       "      <th>tech</th>\n",
       "      <th>system_capacity</th>\n",
       "      <th>value_avg</th>\n",
       "      <th>year</th>\n",
       "      <th>value_lrmer</th>\n",
       "      <th>perc_diff</th>\n",
       "    </tr>\n",
       "  </thead>\n",
       "  <tbody>\n",
       "    <tr>\n",
       "      <th>0</th>\n",
       "      <td>p122</td>\n",
       "      <td>rto12</td>\n",
       "      <td>MA</td>\n",
       "      <td>eastern</td>\n",
       "      <td>Northeast</td>\n",
       "      <td>607</td>\n",
       "      <td>wind</td>\n",
       "      <td>4500.0</td>\n",
       "      <td>1548.940826</td>\n",
       "      <td>2020</td>\n",
       "      <td>2001.786130</td>\n",
       "      <td>-0.292358</td>\n",
       "    </tr>\n",
       "    <tr>\n",
       "      <th>1</th>\n",
       "      <td>p82</td>\n",
       "      <td>rto6</td>\n",
       "      <td>ENC</td>\n",
       "      <td>eastern</td>\n",
       "      <td>Midwest</td>\n",
       "      <td>1502</td>\n",
       "      <td>wind</td>\n",
       "      <td>9000.0</td>\n",
       "      <td>446.926222</td>\n",
       "      <td>2020</td>\n",
       "      <td>6712.329588</td>\n",
       "      <td>-14.018876</td>\n",
       "    </tr>\n",
       "    <tr>\n",
       "      <th>2</th>\n",
       "      <td>p53</td>\n",
       "      <td>rto8</td>\n",
       "      <td>WNC</td>\n",
       "      <td>eastern</td>\n",
       "      <td>Midwest</td>\n",
       "      <td>2691</td>\n",
       "      <td>wind</td>\n",
       "      <td>10000.0</td>\n",
       "      <td>9535.397526</td>\n",
       "      <td>2020</td>\n",
       "      <td>16198.000857</td>\n",
       "      <td>-0.698723</td>\n",
       "    </tr>\n",
       "    <tr>\n",
       "      <th>3</th>\n",
       "      <td>p62</td>\n",
       "      <td>rto10</td>\n",
       "      <td>WSC</td>\n",
       "      <td>texas</td>\n",
       "      <td>South</td>\n",
       "      <td>4775</td>\n",
       "      <td>wind</td>\n",
       "      <td>90800.0</td>\n",
       "      <td>4630.298425</td>\n",
       "      <td>2020</td>\n",
       "      <td>23938.600085</td>\n",
       "      <td>-4.169991</td>\n",
       "    </tr>\n",
       "    <tr>\n",
       "      <th>4</th>\n",
       "      <td>p10</td>\n",
       "      <td>rto4</td>\n",
       "      <td>PA</td>\n",
       "      <td>western</td>\n",
       "      <td>West</td>\n",
       "      <td>4776</td>\n",
       "      <td>wind</td>\n",
       "      <td>58800.0</td>\n",
       "      <td>26388.136092</td>\n",
       "      <td>2020</td>\n",
       "      <td>12776.870472</td>\n",
       "      <td>0.515810</td>\n",
       "    </tr>\n",
       "  </tbody>\n",
       "</table>\n",
       "</div>"
      ],
      "text/plain": [
       "    pca    rto census_reg    inter census_div project_id  tech  \\\n",
       "0  p122  rto12         MA  eastern  Northeast        607  wind   \n",
       "1   p82   rto6        ENC  eastern    Midwest       1502  wind   \n",
       "2   p53   rto8        WNC  eastern    Midwest       2691  wind   \n",
       "3   p62  rto10        WSC    texas      South       4775  wind   \n",
       "4   p10   rto4         PA  western       West       4776  wind   \n",
       "\n",
       "   system_capacity     value_avg  year   value_lrmer  perc_diff  \n",
       "0           4500.0   1548.940826  2020   2001.786130  -0.292358  \n",
       "1           9000.0    446.926222  2020   6712.329588 -14.018876  \n",
       "2          10000.0   9535.397526  2020  16198.000857  -0.698723  \n",
       "3          90800.0   4630.298425  2020  23938.600085  -4.169991  \n",
       "4          58800.0  26388.136092  2020  12776.870472   0.515810  "
      ]
     },
     "execution_count": 93,
     "metadata": {},
     "output_type": "execute_result"
    }
   ],
   "source": [
    "temp_comb.head()"
   ]
  },
  {
   "cell_type": "code",
   "execution_count": null,
   "metadata": {},
   "outputs": [],
   "source": []
  }
 ],
 "metadata": {
  "kernelspec": {
   "display_name": "Python 3",
   "language": "python",
   "name": "python3"
  },
  "language_info": {
   "codemirror_mode": {
    "name": "ipython",
    "version": 3
   },
   "file_extension": ".py",
   "mimetype": "text/x-python",
   "name": "python",
   "nbconvert_exporter": "python",
   "pygments_lexer": "ipython3",
   "version": "3.8.5"
  }
 },
 "nbformat": 4,
 "nbformat_minor": 4
}
