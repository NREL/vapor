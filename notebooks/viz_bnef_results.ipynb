{
 "cells": [
  {
   "cell_type": "code",
   "execution_count": 1,
   "metadata": {
    "tags": []
   },
   "outputs": [
    {
     "name": "stderr",
     "output_type": "stream",
     "text": [
      "2020-11-04 11:20:25,539 [MainThread  ] [INFO ]  Starting log for vapor...\n"
     ]
    }
   ],
   "source": [
    "import os\n",
    "os.chdir(os.pardir)\n",
    "\n",
    "import matplotlib\n",
    "import matplotlib.pyplot as plt\n",
    "import matplotlib.ticker as mtick\n",
    "import seaborn as sns\n",
    "import matplotlib.patches as mpatches\n",
    "import pandas as pd\n",
    "\n",
    "import vapor\n",
    "from vapor.models import Cambium"
   ]
  },
  {
   "cell_type": "code",
   "execution_count": 2,
   "metadata": {},
   "outputs": [
    {
     "data": {
      "text/plain": [
       "'/srv/data/home/skoebric/vapor-open'"
      ]
     },
     "execution_count": 2,
     "metadata": {},
     "output_type": "execute_result"
    }
   ],
   "source": [
    "os.getcwd()"
   ]
  },
  {
   "cell_type": "code",
   "execution_count": 3,
   "metadata": {},
   "outputs": [],
   "source": [
    "# --- Load Regional Best ---\n",
    "results = pd.read_pickle(os.path.join('results','bnef_results.pkl'))\n",
    "results['scenario'] = 'Mid Cost'\n",
    "results['batt_size'] = 0\n",
    "results.rename({'geometry':'point', 'region':'pca'}, axis='columns', inplace=True)\n"
   ]
  },
  {
   "cell_type": "code",
   "execution_count": 4,
   "metadata": {},
   "outputs": [
    {
     "data": {
      "text/plain": [
       "2        MA\n",
       "3        MA\n",
       "10      WNC\n",
       "6       ENC\n",
       "23      WSC\n",
       "       ... \n",
       "1433    ENC\n",
       "1438     NE\n",
       "1439    WSC\n",
       "1440    WSC\n",
       "1443    ENC\n",
       "Name: pca, Length: 975, dtype: object"
      ]
     },
     "execution_count": 4,
     "metadata": {},
     "output_type": "execute_result"
    }
   ],
   "source": [
    "results['pca']"
   ]
  },
  {
   "cell_type": "code",
   "execution_count": 5,
   "metadata": {},
   "outputs": [],
   "source": [
    "region_map = pd.read_csv(os.path.join('data','geography','region_hierarchy.csv'))\n",
    "region_map = region_map[['pca','rto','census_reg','inter']].drop_duplicates()\n",
    "\n",
    "census_reg_dict = {\n",
    "    'PA':'West',\n",
    "    'MTN':'West',\n",
    "    'ENC':'Midwest',\n",
    "    'WNC':'Midwest',\n",
    "    'WSC':'South',\n",
    "    'MA':'Northeast',\n",
    "    'NE':'Northeast',\n",
    "    'ESC':'South',\n",
    "    'SA':'South'\n",
    "}\n",
    "region_map['census_div'] = region_map['census_reg'].map(census_reg_dict)\n",
    "\n",
    "df = results.merge(region_map, on='pca', how='left')\n"
   ]
  },
  {
   "cell_type": "code",
   "execution_count": 6,
   "metadata": {},
   "outputs": [
    {
     "data": {
      "text/plain": [
       "2        MA\n",
       "3        MA\n",
       "10      WNC\n",
       "6       ENC\n",
       "23      WSC\n",
       "       ... \n",
       "1433    ENC\n",
       "1438     NE\n",
       "1439    WSC\n",
       "1440    WSC\n",
       "1443    ENC\n",
       "Name: pca, Length: 975, dtype: object"
      ]
     },
     "execution_count": 6,
     "metadata": {},
     "output_type": "execute_result"
    }
   ],
   "source": [
    "results['pca']"
   ]
  },
  {
   "cell_type": "code",
   "execution_count": 7,
   "metadata": {},
   "outputs": [],
   "source": [
    "years = [str(i) for i in range(2014,2051,1)]\n",
    "cambium_cols = [i for i in df.columns if 'cambium' in i]\n",
    "cambium_cols = [i for i in cambium_cols if i[-4:] in years]\n",
    "\n",
    "\n",
    "# --- subset cambium columns ---\n",
    "c_df = df[cambium_cols + list(region_map.columns) + ['project_id','tech','system_capacity']]\n",
    "\n",
    "# --- melt ---\n",
    "c_df = c_df.melt(id_vars= list(region_map.columns) +['project_id','tech','system_capacity'])\n",
    "c_df['year'] = [int(i[-4:]) for i in c_df['variable']]\n",
    "c_df['variable'] = [str(i[:-5]) for i in c_df['variable']]\n",
    "\n",
    "c_df['value_mw'] = c_df['value'] / c_df['system_capacity'] * 1000\n"
   ]
  },
  {
   "cell_type": "code",
   "execution_count": 8,
   "metadata": {},
   "outputs": [
    {
     "data": {
      "text/html": [
       "<div>\n",
       "<style scoped>\n",
       "    .dataframe tbody tr th:only-of-type {\n",
       "        vertical-align: middle;\n",
       "    }\n",
       "\n",
       "    .dataframe tbody tr th {\n",
       "        vertical-align: top;\n",
       "    }\n",
       "\n",
       "    .dataframe thead th {\n",
       "        text-align: right;\n",
       "    }\n",
       "</style>\n",
       "<table border=\"1\" class=\"dataframe\">\n",
       "  <thead>\n",
       "    <tr style=\"text-align: right;\">\n",
       "      <th></th>\n",
       "      <th>pca</th>\n",
       "      <th>rto</th>\n",
       "      <th>census_reg</th>\n",
       "      <th>inter</th>\n",
       "      <th>census_div</th>\n",
       "      <th>project_id</th>\n",
       "      <th>tech</th>\n",
       "      <th>system_capacity</th>\n",
       "      <th>variable</th>\n",
       "      <th>value</th>\n",
       "      <th>year</th>\n",
       "      <th>value_mw</th>\n",
       "    </tr>\n",
       "  </thead>\n",
       "  <tbody>\n",
       "    <tr>\n",
       "      <th>0</th>\n",
       "      <td>MA</td>\n",
       "      <td>NaN</td>\n",
       "      <td>NaN</td>\n",
       "      <td>NaN</td>\n",
       "      <td>NaN</td>\n",
       "      <td>607</td>\n",
       "      <td>wind</td>\n",
       "      <td>4500.0</td>\n",
       "      <td>cambium_total_value</td>\n",
       "      <td>175.989956</td>\n",
       "      <td>2020</td>\n",
       "      <td>39.108879</td>\n",
       "    </tr>\n",
       "    <tr>\n",
       "      <th>1</th>\n",
       "      <td>MA</td>\n",
       "      <td>NaN</td>\n",
       "      <td>NaN</td>\n",
       "      <td>NaN</td>\n",
       "      <td>NaN</td>\n",
       "      <td>607</td>\n",
       "      <td>wind</td>\n",
       "      <td>4500.0</td>\n",
       "      <td>cambium_total_value</td>\n",
       "      <td>175.989956</td>\n",
       "      <td>2020</td>\n",
       "      <td>39.108879</td>\n",
       "    </tr>\n",
       "    <tr>\n",
       "      <th>2</th>\n",
       "      <td>WNC</td>\n",
       "      <td>NaN</td>\n",
       "      <td>NaN</td>\n",
       "      <td>NaN</td>\n",
       "      <td>NaN</td>\n",
       "      <td>2691</td>\n",
       "      <td>wind</td>\n",
       "      <td>10000.0</td>\n",
       "      <td>cambium_total_value</td>\n",
       "      <td>829.288063</td>\n",
       "      <td>2020</td>\n",
       "      <td>82.928806</td>\n",
       "    </tr>\n",
       "    <tr>\n",
       "      <th>3</th>\n",
       "      <td>ENC</td>\n",
       "      <td>NaN</td>\n",
       "      <td>NaN</td>\n",
       "      <td>NaN</td>\n",
       "      <td>NaN</td>\n",
       "      <td>1502</td>\n",
       "      <td>wind</td>\n",
       "      <td>9000.0</td>\n",
       "      <td>cambium_total_value</td>\n",
       "      <td>779.711928</td>\n",
       "      <td>2020</td>\n",
       "      <td>86.634659</td>\n",
       "    </tr>\n",
       "    <tr>\n",
       "      <th>4</th>\n",
       "      <td>WSC</td>\n",
       "      <td>NaN</td>\n",
       "      <td>NaN</td>\n",
       "      <td>NaN</td>\n",
       "      <td>NaN</td>\n",
       "      <td>4775</td>\n",
       "      <td>wind</td>\n",
       "      <td>90800.0</td>\n",
       "      <td>cambium_total_value</td>\n",
       "      <td>8662.225784</td>\n",
       "      <td>2020</td>\n",
       "      <td>95.398962</td>\n",
       "    </tr>\n",
       "    <tr>\n",
       "      <th>...</th>\n",
       "      <td>...</td>\n",
       "      <td>...</td>\n",
       "      <td>...</td>\n",
       "      <td>...</td>\n",
       "      <td>...</td>\n",
       "      <td>...</td>\n",
       "      <td>...</td>\n",
       "      <td>...</td>\n",
       "      <td>...</td>\n",
       "      <td>...</td>\n",
       "      <td>...</td>\n",
       "      <td>...</td>\n",
       "    </tr>\n",
       "    <tr>\n",
       "      <th>170620</th>\n",
       "      <td>ENC</td>\n",
       "      <td>NaN</td>\n",
       "      <td>NaN</td>\n",
       "      <td>NaN</td>\n",
       "      <td>NaN</td>\n",
       "      <td>10000118</td>\n",
       "      <td>pv</td>\n",
       "      <td>23500.0</td>\n",
       "      <td>cambium_as_value</td>\n",
       "      <td>0.145177</td>\n",
       "      <td>2044</td>\n",
       "      <td>0.006178</td>\n",
       "    </tr>\n",
       "    <tr>\n",
       "      <th>170621</th>\n",
       "      <td>NE</td>\n",
       "      <td>NaN</td>\n",
       "      <td>NaN</td>\n",
       "      <td>NaN</td>\n",
       "      <td>NaN</td>\n",
       "      <td>10000122</td>\n",
       "      <td>pv</td>\n",
       "      <td>54600.0</td>\n",
       "      <td>cambium_as_value</td>\n",
       "      <td>0.239601</td>\n",
       "      <td>2044</td>\n",
       "      <td>0.004388</td>\n",
       "    </tr>\n",
       "    <tr>\n",
       "      <th>170622</th>\n",
       "      <td>WSC</td>\n",
       "      <td>NaN</td>\n",
       "      <td>NaN</td>\n",
       "      <td>NaN</td>\n",
       "      <td>NaN</td>\n",
       "      <td>10000123</td>\n",
       "      <td>pv</td>\n",
       "      <td>165000.0</td>\n",
       "      <td>cambium_as_value</td>\n",
       "      <td>50.271014</td>\n",
       "      <td>2044</td>\n",
       "      <td>0.304673</td>\n",
       "    </tr>\n",
       "    <tr>\n",
       "      <th>170623</th>\n",
       "      <td>WSC</td>\n",
       "      <td>NaN</td>\n",
       "      <td>NaN</td>\n",
       "      <td>NaN</td>\n",
       "      <td>NaN</td>\n",
       "      <td>10000124</td>\n",
       "      <td>pv</td>\n",
       "      <td>165000.0</td>\n",
       "      <td>cambium_as_value</td>\n",
       "      <td>50.271014</td>\n",
       "      <td>2044</td>\n",
       "      <td>0.304673</td>\n",
       "    </tr>\n",
       "    <tr>\n",
       "      <th>170624</th>\n",
       "      <td>ENC</td>\n",
       "      <td>NaN</td>\n",
       "      <td>NaN</td>\n",
       "      <td>NaN</td>\n",
       "      <td>NaN</td>\n",
       "      <td>10000129</td>\n",
       "      <td>pv</td>\n",
       "      <td>429000.0</td>\n",
       "      <td>cambium_as_value</td>\n",
       "      <td>2.648060</td>\n",
       "      <td>2044</td>\n",
       "      <td>0.006173</td>\n",
       "    </tr>\n",
       "  </tbody>\n",
       "</table>\n",
       "<p>170625 rows × 12 columns</p>\n",
       "</div>"
      ],
      "text/plain": [
       "        pca  rto census_reg inter census_div project_id  tech  \\\n",
       "0        MA  NaN        NaN   NaN        NaN        607  wind   \n",
       "1        MA  NaN        NaN   NaN        NaN        607  wind   \n",
       "2       WNC  NaN        NaN   NaN        NaN       2691  wind   \n",
       "3       ENC  NaN        NaN   NaN        NaN       1502  wind   \n",
       "4       WSC  NaN        NaN   NaN        NaN       4775  wind   \n",
       "...     ...  ...        ...   ...        ...        ...   ...   \n",
       "170620  ENC  NaN        NaN   NaN        NaN   10000118    pv   \n",
       "170621   NE  NaN        NaN   NaN        NaN   10000122    pv   \n",
       "170622  WSC  NaN        NaN   NaN        NaN   10000123    pv   \n",
       "170623  WSC  NaN        NaN   NaN        NaN   10000124    pv   \n",
       "170624  ENC  NaN        NaN   NaN        NaN   10000129    pv   \n",
       "\n",
       "        system_capacity             variable        value  year   value_mw  \n",
       "0                4500.0  cambium_total_value   175.989956  2020  39.108879  \n",
       "1                4500.0  cambium_total_value   175.989956  2020  39.108879  \n",
       "2               10000.0  cambium_total_value   829.288063  2020  82.928806  \n",
       "3                9000.0  cambium_total_value   779.711928  2020  86.634659  \n",
       "4               90800.0  cambium_total_value  8662.225784  2020  95.398962  \n",
       "...                 ...                  ...          ...   ...        ...  \n",
       "170620          23500.0     cambium_as_value     0.145177  2044   0.006178  \n",
       "170621          54600.0     cambium_as_value     0.239601  2044   0.004388  \n",
       "170622         165000.0     cambium_as_value    50.271014  2044   0.304673  \n",
       "170623         165000.0     cambium_as_value    50.271014  2044   0.304673  \n",
       "170624         429000.0     cambium_as_value     2.648060  2044   0.006173  \n",
       "\n",
       "[170625 rows x 12 columns]"
      ]
     },
     "execution_count": 8,
     "metadata": {},
     "output_type": "execute_result"
    }
   ],
   "source": [
    "c_df"
   ]
  },
  {
   "cell_type": "code",
   "execution_count": 9,
   "metadata": {},
   "outputs": [
    {
     "name": "stderr",
     "output_type": "stream",
     "text": [
      "/home/skoebric/anaconda2/envs/vp/lib/python3.8/site-packages/pandas/core/generic.py:3878: PerformanceWarning: dropping on a non-lexsorted multi-index without a level parameter may impact performance.\n",
      "  obj = obj._drop_axis(labels, axis, level=level, errors=errors)\n"
     ]
    },
    {
     "ename": "KeyError",
     "evalue": "'cambium_co2_rate_avg'",
     "output_type": "error",
     "traceback": [
      "\u001b[0;31m---------------------------------------------------------------------------\u001b[0m",
      "\u001b[0;31mKeyError\u001b[0m                                  Traceback (most recent call last)",
      "\u001b[0;32m~/anaconda2/envs/vp/lib/python3.8/site-packages/pandas/core/indexes/base.py\u001b[0m in \u001b[0;36mget_loc\u001b[0;34m(self, key, method, tolerance)\u001b[0m\n\u001b[1;32m   2888\u001b[0m             \u001b[0;32mtry\u001b[0m\u001b[0;34m:\u001b[0m\u001b[0;34m\u001b[0m\u001b[0;34m\u001b[0m\u001b[0m\n\u001b[0;32m-> 2889\u001b[0;31m                 \u001b[0;32mreturn\u001b[0m \u001b[0mself\u001b[0m\u001b[0;34m.\u001b[0m\u001b[0m_engine\u001b[0m\u001b[0;34m.\u001b[0m\u001b[0mget_loc\u001b[0m\u001b[0;34m(\u001b[0m\u001b[0mcasted_key\u001b[0m\u001b[0;34m)\u001b[0m\u001b[0;34m\u001b[0m\u001b[0;34m\u001b[0m\u001b[0m\n\u001b[0m\u001b[1;32m   2890\u001b[0m             \u001b[0;32mexcept\u001b[0m \u001b[0mKeyError\u001b[0m \u001b[0;32mas\u001b[0m \u001b[0merr\u001b[0m\u001b[0;34m:\u001b[0m\u001b[0;34m\u001b[0m\u001b[0;34m\u001b[0m\u001b[0m\n",
      "\u001b[0;32mpandas/_libs/index.pyx\u001b[0m in \u001b[0;36mpandas._libs.index.IndexEngine.get_loc\u001b[0;34m()\u001b[0m\n",
      "\u001b[0;32mpandas/_libs/index.pyx\u001b[0m in \u001b[0;36mpandas._libs.index.IndexEngine.get_loc\u001b[0;34m()\u001b[0m\n",
      "\u001b[0;32mpandas/_libs/hashtable_class_helper.pxi\u001b[0m in \u001b[0;36mpandas._libs.hashtable.PyObjectHashTable.get_item\u001b[0;34m()\u001b[0m\n",
      "\u001b[0;32mpandas/_libs/hashtable_class_helper.pxi\u001b[0m in \u001b[0;36mpandas._libs.hashtable.PyObjectHashTable.get_item\u001b[0;34m()\u001b[0m\n",
      "\u001b[0;31mKeyError\u001b[0m: 'cambium_co2_rate_avg'",
      "\nThe above exception was the direct cause of the following exception:\n",
      "\u001b[0;31mKeyError\u001b[0m                                  Traceback (most recent call last)",
      "\u001b[0;32m<ipython-input-9-3a676e3242f4>\u001b[0m in \u001b[0;36m<module>\u001b[0;34m\u001b[0m\n\u001b[1;32m     18\u001b[0m \u001b[0mpivot\u001b[0m \u001b[0;34m=\u001b[0m \u001b[0mpivot\u001b[0m\u001b[0;34m.\u001b[0m\u001b[0mmerge\u001b[0m\u001b[0;34m(\u001b[0m\u001b[0msc\u001b[0m\u001b[0;34m,\u001b[0m \u001b[0mon\u001b[0m\u001b[0;34m=\u001b[0m\u001b[0;34m[\u001b[0m\u001b[0;34m'tech'\u001b[0m\u001b[0;34m,\u001b[0m\u001b[0;34m'census_div'\u001b[0m\u001b[0;34m]\u001b[0m\u001b[0;34m)\u001b[0m\u001b[0;34m\u001b[0m\u001b[0;34m\u001b[0m\u001b[0m\n\u001b[1;32m     19\u001b[0m \u001b[0;34m\u001b[0m\u001b[0m\n\u001b[0;32m---> 20\u001b[0;31m \u001b[0mpivot\u001b[0m\u001b[0;34m[\u001b[0m\u001b[0;34m'cambium_co2_rate_avg'\u001b[0m\u001b[0;34m]\u001b[0m \u001b[0;34m/=\u001b[0m \u001b[0;36m1000000\u001b[0m\u001b[0;34m\u001b[0m\u001b[0;34m\u001b[0m\u001b[0m\n\u001b[0m\u001b[1;32m     21\u001b[0m \u001b[0mpivot\u001b[0m\u001b[0;34m[\u001b[0m\u001b[0;34m'cambium_grid_value'\u001b[0m\u001b[0;34m]\u001b[0m  \u001b[0;34m/=\u001b[0m \u001b[0;36m1e6\u001b[0m\u001b[0;34m\u001b[0m\u001b[0;34m\u001b[0m\u001b[0m\n\u001b[1;32m     22\u001b[0m \u001b[0mpivot\u001b[0m\u001b[0;34m[\u001b[0m\u001b[0;34m'system_capacity'\u001b[0m\u001b[0;34m]\u001b[0m \u001b[0;34m/=\u001b[0m \u001b[0;36m1000\u001b[0m\u001b[0;34m\u001b[0m\u001b[0;34m\u001b[0m\u001b[0m\n",
      "\u001b[0;32m~/anaconda2/envs/vp/lib/python3.8/site-packages/pandas/core/frame.py\u001b[0m in \u001b[0;36m__getitem__\u001b[0;34m(self, key)\u001b[0m\n\u001b[1;32m   2900\u001b[0m             \u001b[0;32mif\u001b[0m \u001b[0mself\u001b[0m\u001b[0;34m.\u001b[0m\u001b[0mcolumns\u001b[0m\u001b[0;34m.\u001b[0m\u001b[0mnlevels\u001b[0m \u001b[0;34m>\u001b[0m \u001b[0;36m1\u001b[0m\u001b[0;34m:\u001b[0m\u001b[0;34m\u001b[0m\u001b[0;34m\u001b[0m\u001b[0m\n\u001b[1;32m   2901\u001b[0m                 \u001b[0;32mreturn\u001b[0m \u001b[0mself\u001b[0m\u001b[0;34m.\u001b[0m\u001b[0m_getitem_multilevel\u001b[0m\u001b[0;34m(\u001b[0m\u001b[0mkey\u001b[0m\u001b[0;34m)\u001b[0m\u001b[0;34m\u001b[0m\u001b[0;34m\u001b[0m\u001b[0m\n\u001b[0;32m-> 2902\u001b[0;31m             \u001b[0mindexer\u001b[0m \u001b[0;34m=\u001b[0m \u001b[0mself\u001b[0m\u001b[0;34m.\u001b[0m\u001b[0mcolumns\u001b[0m\u001b[0;34m.\u001b[0m\u001b[0mget_loc\u001b[0m\u001b[0;34m(\u001b[0m\u001b[0mkey\u001b[0m\u001b[0;34m)\u001b[0m\u001b[0;34m\u001b[0m\u001b[0;34m\u001b[0m\u001b[0m\n\u001b[0m\u001b[1;32m   2903\u001b[0m             \u001b[0;32mif\u001b[0m \u001b[0mis_integer\u001b[0m\u001b[0;34m(\u001b[0m\u001b[0mindexer\u001b[0m\u001b[0;34m)\u001b[0m\u001b[0;34m:\u001b[0m\u001b[0;34m\u001b[0m\u001b[0;34m\u001b[0m\u001b[0m\n\u001b[1;32m   2904\u001b[0m                 \u001b[0mindexer\u001b[0m \u001b[0;34m=\u001b[0m \u001b[0;34m[\u001b[0m\u001b[0mindexer\u001b[0m\u001b[0;34m]\u001b[0m\u001b[0;34m\u001b[0m\u001b[0;34m\u001b[0m\u001b[0m\n",
      "\u001b[0;32m~/anaconda2/envs/vp/lib/python3.8/site-packages/pandas/core/indexes/base.py\u001b[0m in \u001b[0;36mget_loc\u001b[0;34m(self, key, method, tolerance)\u001b[0m\n\u001b[1;32m   2889\u001b[0m                 \u001b[0;32mreturn\u001b[0m \u001b[0mself\u001b[0m\u001b[0;34m.\u001b[0m\u001b[0m_engine\u001b[0m\u001b[0;34m.\u001b[0m\u001b[0mget_loc\u001b[0m\u001b[0;34m(\u001b[0m\u001b[0mcasted_key\u001b[0m\u001b[0;34m)\u001b[0m\u001b[0;34m\u001b[0m\u001b[0;34m\u001b[0m\u001b[0m\n\u001b[1;32m   2890\u001b[0m             \u001b[0;32mexcept\u001b[0m \u001b[0mKeyError\u001b[0m \u001b[0;32mas\u001b[0m \u001b[0merr\u001b[0m\u001b[0;34m:\u001b[0m\u001b[0;34m\u001b[0m\u001b[0;34m\u001b[0m\u001b[0m\n\u001b[0;32m-> 2891\u001b[0;31m                 \u001b[0;32mraise\u001b[0m \u001b[0mKeyError\u001b[0m\u001b[0;34m(\u001b[0m\u001b[0mkey\u001b[0m\u001b[0;34m)\u001b[0m \u001b[0;32mfrom\u001b[0m \u001b[0merr\u001b[0m\u001b[0;34m\u001b[0m\u001b[0;34m\u001b[0m\u001b[0m\n\u001b[0m\u001b[1;32m   2892\u001b[0m \u001b[0;34m\u001b[0m\u001b[0m\n\u001b[1;32m   2893\u001b[0m         \u001b[0;32mif\u001b[0m \u001b[0mtolerance\u001b[0m \u001b[0;32mis\u001b[0m \u001b[0;32mnot\u001b[0m \u001b[0;32mNone\u001b[0m\u001b[0;34m:\u001b[0m\u001b[0;34m\u001b[0m\u001b[0;34m\u001b[0m\u001b[0m\n",
      "\u001b[0;31mKeyError\u001b[0m: 'cambium_co2_rate_avg'"
     ]
    }
   ],
   "source": [
    "\n",
    "value_col = 'value'\n",
    "grouped = c_df.groupby(['census_div','tech','year','variable'], as_index=False)[['system_capacity',value_col]].sum()\n",
    "grouped['census_div'] = pd.Categorical(grouped['census_div'], categories=['Northeast','West','Midwest','South'], ordered=True)\n",
    "grouped.sort_values('census_div', inplace=True)\n",
    "\n",
    "grouped = grouped.loc[grouped['year'] == 2020]\n",
    "grouped = grouped.loc[grouped['variable'].isin(['cambium_co2_rate_avg','cambium_grid_value'])]\n",
    "\n",
    "pivot = grouped.pivot_table(\n",
    "    index=['census_div','tech'],\n",
    "    columns='variable',\n",
    "    values='value'\n",
    ")\n",
    "pivot.reset_index(inplace=True)\n",
    "\n",
    "sc = grouped[['census_div', 'tech', 'system_capacity']].drop_duplicates()\n",
    "\n",
    "pivot = pivot.merge(sc, on=['tech','census_div'])\n",
    "\n",
    "pivot['cambium_co2_rate_avg'] /= 1000000\n",
    "pivot['cambium_grid_value']  /= 1e6\n",
    "pivot['system_capacity'] /= 1000\n",
    "\n",
    "pivot.to_csv(os.path.join('images','existing_impacts.csv'))\n",
    "pivot"
   ]
  },
  {
   "cell_type": "code",
   "execution_count": null,
   "metadata": {},
   "outputs": [],
   "source": [
    "grouped"
   ]
  },
  {
   "cell_type": "code",
   "execution_count": null,
   "metadata": {},
   "outputs": [],
   "source": [
    "pivot"
   ]
  },
  {
   "cell_type": "code",
   "execution_count": null,
   "metadata": {},
   "outputs": [],
   "source": [
    "dist = c_df.copy()\n",
    "# dist['census_div'] = pd.Categorical(dist['census_div'], categories=['Northeast','West','Midwest','South'], ordered=True)\n",
    "# dist.sort_values('census_div', inplace=True)\n",
    "\n",
    "\n",
    "dist = dist.loc[dist['variable'].isin(variable_dict.keys())]\n",
    "\n",
    "sns.set_style('whitegrid')\n",
    "fig, (ax1, ax2) = plt.subplots(ncols=2, figsize=(10,4))\n",
    "\n",
    "grid_value = dist.loc[dist['variable'] == 'cambium_grid_value']\n",
    "co2 = dist.loc[dist['variable'] == 'cambium_co2_rate_avg']\n",
    "\n",
    "sns.set_palette(sns.color_palette([vapor.tech_dict['pv'], vapor.tech_dict['wind']]))\n",
    "\n",
    "sns.violinplot(\n",
    "    data=grid_value, x='census_div', y='value_mw',\n",
    "    hue='tech', split=True, inner='quart',\n",
    "    ax=ax1, cut=0, scale='width'\n",
    "  )\n",
    "\n",
    "sns.violinplot(\n",
    "    data=co2, x='census_div', y='value_mw',\n",
    "    hue='tech', split=True, inner='quart', \n",
    "    ax=ax2, cut=0, scale='width'\n",
    "  )\n",
    "\n",
    "ax1.set_ylabel('2020 Grid Value per MW ($1,000)')\n",
    "ax2.set_ylabel('2020 Average CO2 Offset per MW (lbs)')\n",
    "ax1.set_xlabel('Census Division')\n",
    "ax2.set_xlabel('Census Division')\n",
    "\n",
    "ax1.legend([],[], frameon=False)\n",
    "ax2.legend([],[], frameon=False)\n",
    "\n",
    "label_dict = {'pv':'Solar PV', 'wind':'Wind'}\n",
    "custom_patches = [mpatches.Patch(color=vapor.tech_dict[k], label=v) for k,v in label_dict.items()]\n",
    "plt.legend(handles=custom_patches, bbox_to_anchor=(1.05, 0.6), loc=2, borderaxespad=0.)\n",
    "\n",
    "plt.tight_layout()\n",
    "plt.subplots_adjust(wspace=0.4)\n",
    "sns.despine()\n",
    "\n",
    "# g = sns.catplot(x='census_div', y='value_mw',\n",
    "#                 hue='tech', col='variable',\n",
    "#                data=dist, kind='violin', split=True, bw=.3,\n",
    "#                height=5, aspect=1.2, sharey=False)\n"
   ]
  },
  {
   "cell_type": "code",
   "execution_count": null,
   "metadata": {},
   "outputs": [],
   "source": [
    "dist"
   ]
  },
  {
   "cell_type": "code",
   "execution_count": null,
   "metadata": {},
   "outputs": [],
   "source": [
    "df"
   ]
  },
  {
   "cell_type": "code",
   "execution_count": null,
   "metadata": {},
   "outputs": [],
   "source": [
    "bars.pivot_table(index='census_div', columns='tech', values='value').plot.bar(stacked=True)"
   ]
  },
  {
   "cell_type": "code",
   "execution_count": null,
   "metadata": {},
   "outputs": [],
   "source": [
    "# --- plot ---\n",
    "g_df = c_df.groupby(['year','variable','tech'], as_index=False)['value'].sum()\n",
    "g_df = g_df.loc[g_df['variable'] == 'cambium_total_value']\n",
    "sns.lineplot(x='year', y='value', hue='tech', data=g_df)\n"
   ]
  }
 ],
 "metadata": {
  "kernelspec": {
   "display_name": "Python 3",
   "language": "python",
   "name": "python3"
  },
  "language_info": {
   "codemirror_mode": {
    "name": "ipython",
    "version": 3
   },
   "file_extension": ".py",
   "mimetype": "text/x-python",
   "name": "python",
   "nbconvert_exporter": "python",
   "pygments_lexer": "ipython3",
   "version": "3.8.5"
  }
 },
 "nbformat": 4,
 "nbformat_minor": 4
}
