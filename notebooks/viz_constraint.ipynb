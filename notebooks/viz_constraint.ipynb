{
 "cells": [
  {
   "cell_type": "code",
   "execution_count": 1,
   "metadata": {},
   "outputs": [
    {
     "name": "stderr",
     "output_type": "stream",
     "text": [
      "2020-10-21 12:16:55,466 [MainThread  ] [INFO ]  Starting log for vapor...\n"
     ]
    }
   ],
   "source": [
    "import os\n",
    "os.chdir(os.pardir)\n",
    "\n",
    "import matplotlib\n",
    "import matplotlib.pyplot as plt\n",
    "import matplotlib.ticker as mtick\n",
    "import seaborn as sns\n",
    "import matplotlib.patches as mpatches\n",
    "import pandas as pd\n",
    "\n",
    "import vapor\n",
    "from vapor.models import Cambium"
   ]
  },
  {
   "cell_type": "code",
   "execution_count": 7,
   "metadata": {},
   "outputs": [],
   "source": [
    "dfs = []\n",
    "\n",
    "# --- Define Optimization Variables ---\n",
    "aggregate_region = 'state'\n",
    "opt_vars = ['adjusted_installed_cost']\n",
    "scenarios = ['StdScen19_Mid_Case']\n",
    "techs = ['pv']\n",
    "constraints = ['hourly_energy']\n",
    "constraint_pcts = [25,50,75,100]\n",
    "\n",
    "for opt_var in opt_vars:\n",
    "    for scenario in scenarios:\n",
    "        for tech in techs:\n",
    "            for constraint in constraints:\n",
    "                for constraint_pct in constraint_pcts:\n",
    "                    file = f\"{aggregate_region}_best_{tech}_{scenario}_{opt_var}_constraint_{constraint}_{constraint_pct}.pkl\"\n",
    "                    fp = os.path.join('results',file)\n",
    "                    df = pd.read_pickle(fp)\n",
    "                    df['goal_type'] = constraint\n",
    "                    df['goal_pct'] = constraint_pct\n",
    "                    dfs.append(df)\n",
    "\n",
    "\n",
    "results = pd.concat(dfs, axis='rows')"
   ]
  },
  {
   "cell_type": "code",
   "execution_count": 14,
   "metadata": {},
   "outputs": [
    {
     "data": {
      "text/plain": [
       "<AxesSubplot:xlabel='goal_pct', ylabel='adjusted_installed_cost'>"
      ]
     },
     "execution_count": 14,
     "metadata": {},
     "output_type": "execute_result"
    },
    {
     "data": {
      "image/png": "[encoded data removed]",
      "text/plain": [
       "<Figure size 432x288 with 1 Axes>"
      ]
     },
     "metadata": {},
     "output_type": "display_data"
    }
   ],
   "source": [
    "import seaborn as sns\n",
    "sns.set_style('whitegrid')\n",
    "\n",
    "data = results[['region', 'goal_pct', 'adjusted_installed_cost']]\n",
    "\n",
    "sns.violinplot(data=data, x=\"goal_pct\", y=\"adjusted_installed_cost\",\n",
    "               inner=\"quart\", linewidth=1)"
   ]
  },
  {
   "cell_type": "code",
   "execution_count": null,
   "metadata": {},
   "outputs": [],
   "source": []
  }
 ],
 "metadata": {
  "kernelspec": {
   "display_name": "Python 3",
   "language": "python",
   "name": "python3"
  },
  "language_info": {
   "codemirror_mode": {
    "name": "ipython",
    "version": 3
   },
   "file_extension": ".py",
   "mimetype": "text/x-python",
   "name": "python",
   "nbconvert_exporter": "python",
   "pygments_lexer": "ipython3",
   "version": "3.8.5"
  }
 },
 "nbformat": 4,
 "nbformat_minor": 4
}
