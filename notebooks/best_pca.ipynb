{
 "cells": [
  {
   "cell_type": "code",
   "execution_count": null,
   "metadata": {},
   "outputs": [],
   "source": [
    "# --- Imports ---\n",
    "import logging\n",
    "import random\n",
    "import json\n",
    "import time\n",
    "import concurrent.futures as cf\n",
    "import itertools\n",
    "import io\n",
    "import requests\n",
    "from requests.adapters import HTTPAdapter\n",
    "from requests.packages.urllib3.util.retry import Retry\n",
    "\n",
    "import os\n",
    "os.chdir(os.pardir)\n",
    "\n",
    "import numpy as np\n",
    "import pandas as pd\n",
    "import geopandas as gpd\n",
    "import matplotlib.pyplot as plt\n",
    "\n",
    "# import PySAM.Pvsamv1 as pv\n",
    "import PySAM.Pvwattsv7 as pv\n",
    "import PySAM.Singleowner as so\n",
    "\n",
    "# --- Absolute Imports ---\n",
    "import vapor.datafetcher as datafetcher\n",
    "import vapor.systemdesigner as systemdesigner\n",
    "import vapor.systemsimulator as systemsimulator\n",
    "import vapor.visualizer as visualizer\n",
    "import vapor.helper as helper\n",
    "import vapor.config as config\n",
    "import vapor.models as models\n",
    "\n",
    "log = logging.getLogger(\"vapor\")"
   ]
  },
  {
   "cell_type": "code",
   "execution_count": null,
   "metadata": {},
   "outputs": [],
   "source": [
    "CentroidsLookup = datafetcher.GetCentroidOfRegions(aggregate_region='pca')\n",
    "CentroidsLookup.find_centroids()\n",
    "self.centroids_dict = CentroidsLookup.centroids_lookup\n",
    "self.geometry = CentroidsLookup.region_shape\n",
    "\n",
    "fetcher = datafetcher.FetchResourceFiles(tech='wind')\n",
    "\n",
    "# --- fetch resource data for lat/lon tuples ---\n",
    "fetcher.fetch(self.centroids_dict.values()) \n",
    "\n",
    "# --- convert tuples dict to aggregate region dict ---\n",
    "tuple_dict = fetcher.resource_file_paths_dict #keys=region, values=centroid resource file path\n",
    "self.resource_file_dict = {k:tuple_dict[v] for k,v in self.centroids_dict.items()}"
   ]
  }
 ],
 "metadata": {
  "kernelspec": {
   "display_name": "Python 3",
   "language": "python",
   "name": "python3"
  },
  "language_info": {
   "codemirror_mode": {
    "name": "ipython",
    "version": 3
   },
   "file_extension": ".py",
   "mimetype": "text/x-python",
   "name": "python",
   "nbconvert_exporter": "python",
   "pygments_lexer": "ipython3",
   "version": "3.8.5"
  }
 },
 "nbformat": 4,
 "nbformat_minor": 2
}
