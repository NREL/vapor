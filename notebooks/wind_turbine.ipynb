{
 "cells": [
  {
   "cell_type": "code",
   "execution_count": 20,
   "metadata": {},
   "outputs": [
    {
     "output_type": "error",
     "ename": "NameError",
     "evalue": "name 'wp' is not defined",
     "traceback": [
      "\u001b[0;31m---------------------------------------------------------------------------\u001b[0m",
      "\u001b[0;31mNameError\u001b[0m                                 Traceback (most recent call last)",
      "\u001b[0;32m<ipython-input-20-55fa8a767e49>\u001b[0m in \u001b[0;36m<module>\u001b[0;34m\u001b[0m\n\u001b[1;32m     26\u001b[0m \u001b[0;34m\u001b[0m\u001b[0m\n\u001b[1;32m     27\u001b[0m \u001b[0;31m# --- initialize generator ---\u001b[0m\u001b[0;34m\u001b[0m\u001b[0;34m\u001b[0m\u001b[0;34m\u001b[0m\u001b[0m\n\u001b[0;32m---> 28\u001b[0;31m \u001b[0mgenerator\u001b[0m \u001b[0;34m=\u001b[0m \u001b[0mwp\u001b[0m\u001b[0;34m.\u001b[0m\u001b[0mdefault\u001b[0m\u001b[0;34m(\u001b[0m\u001b[0;34m'WindPowerSingleOwner'\u001b[0m\u001b[0;34m)\u001b[0m\u001b[0;34m\u001b[0m\u001b[0;34m\u001b[0m\u001b[0m\n\u001b[0m\u001b[1;32m     29\u001b[0m \u001b[0;34m\u001b[0m\u001b[0m\n\u001b[1;32m     30\u001b[0m \u001b[0;31m# --- calc layout of farm ---\u001b[0m\u001b[0;34m\u001b[0m\u001b[0;34m\u001b[0m\u001b[0;34m\u001b[0m\u001b[0m\n",
      "\u001b[0;31mNameError\u001b[0m: name 'wp' is not defined"
     ]
    }
   ],
   "source": [
    "import numpy as np\n",
    "from shapely.geometry import Point\n",
    "from PySAM import Windpower\n",
    "\n",
    "def calc_n_turbines(farm_size, turbine_size):\n",
    "    return farm_size // turbine_size\n",
    "\n",
    "def set_num_turbines_in_row(n_turbines, spacing=None, angle_deg=0):\n",
    "\n",
    "    xcoords = []\n",
    "    ycoords = []\n",
    "\n",
    "    row_spacing = max(spacing, self.rotor_diameter * 3)\n",
    "\n",
    "    dx = row_spacing * np.cos(np.radians(angle_deg))\n",
    "    dy = row_spacing * np.sin(np.radians(angle_deg))\n",
    "    x0 = 0\n",
    "    y0 = 0\n",
    "    \n",
    "    for i in range(n_turbines):\n",
    "        turb = Point((x0 + i * dx, y0 + i * dy))\n",
    "        xcoords.append(turb.x)\n",
    "        ycoords.append(turb.y)\n",
    "\n",
    "    return xcoords, ycoords\n",
    "\n",
    "# --- initialize generator ---\n",
    "generator = wp.default('WindPowerSingleOwner')\n",
    "\n",
    "# --- calc layout of farm ---\n",
    "turbine_kw = wind.Turbine.wind_turbine_max_cp\n",
    "farm_kw = 100 * 1000 #system_config['Farm']['system_capacity'] * 1000\n",
    "n_turbines = calc_n_turbines(farm_kw, turbine_kw)\n",
    "xcoords, ycoords = set_num_turbines_in_row(n_turbines=10, spacing=250)\n",
    "\n",
    "# --- update modules ---\n",
    "wind.Farm.wind_farm_wake_model = 3\n",
    "wind.Losses.wake_int_loss = 0\n",
    "wind.Farm.system_capacity = turbine_kw * n_turbines\n",
    "wind.Farm.wind_farm_xCoordinates = xcoords\n",
    "wind.Farm.wind_farm_yCoordinates = ycoords\n",
    "\n",
    "\n"
   ]
  },
  {
   "cell_type": "code",
   "execution_count": null,
   "metadata": {},
   "outputs": [],
   "source": []
  }
 ],
 "metadata": {
  "language_info": {
   "codemirror_mode": {
    "name": "ipython",
    "version": 3
   },
   "file_extension": ".py",
   "mimetype": "text/x-python",
   "name": "python",
   "nbconvert_exporter": "python",
   "pygments_lexer": "ipython3",
   "version": "3.8.3-final"
  },
  "orig_nbformat": 2,
  "kernelspec": {
   "name": "python3",
   "display_name": "Python 3"
  }
 },
 "nbformat": 4,
 "nbformat_minor": 2
}