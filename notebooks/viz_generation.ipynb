{
 "cells": [
  {
   "cell_type": "code",
   "execution_count": 1,
   "metadata": {},
   "outputs": [
    {
     "name": "stderr",
     "output_type": "stream",
     "text": [
      "2020-11-13 12:50:07,268 [MainThread  ] [INFO ]  Starting log for vapor...\n"
     ]
    }
   ],
   "source": [
    "import pickle\n",
    "import os\n",
    "os.chdir(os.pardir)\n",
    "from vapor.models import WindMerchantPlant, PVMerchantPlant, Cambium, BuildingLoad\n",
    "from vapor import datafetcher\n",
    "\n",
    "import numpy as np\n",
    "import pandas as pd\n",
    "import matplotlib.pyplot as plt"
   ]
  },
  {
   "cell_type": "code",
   "execution_count": 2,
   "metadata": {},
   "outputs": [
    {
     "ename": "AssertionError",
     "evalue": "",
     "output_type": "error",
     "traceback": [
      "\u001b[0;31m---------------------------------------------------------------------------\u001b[0m",
      "\u001b[0;31mAssertionError\u001b[0m                            Traceback (most recent call last)",
      "\u001b[0;32m<ipython-input-2-1b8e074e47bb>\u001b[0m in \u001b[0;36m<module>\u001b[0;34m\u001b[0m\n\u001b[1;32m      1\u001b[0m \u001b[0mresource_file\u001b[0m \u001b[0;34m=\u001b[0m \u001b[0;34m'data/PySAM Downloaded Weather Files/-71.812_42.257_psm3_60_tmy.csv'\u001b[0m\u001b[0;34m\u001b[0m\u001b[0;34m\u001b[0m\u001b[0m\n\u001b[0;32m----> 2\u001b[0;31m \u001b[0mcambium_df\u001b[0m \u001b[0;34m=\u001b[0m \u001b[0mdatafetcher\u001b[0m\u001b[0;34m.\u001b[0m\u001b[0mload_cambium_data\u001b[0m\u001b[0;34m(\u001b[0m\u001b[0maggregate_region\u001b[0m\u001b[0;34m=\u001b[0m\u001b[0;34m'inter'\u001b[0m\u001b[0;34m,\u001b[0m \u001b[0mscenario\u001b[0m\u001b[0;34m=\u001b[0m\u001b[0;34m'StdScen20_MidCase'\u001b[0m\u001b[0;34m)\u001b[0m\u001b[0;34m\u001b[0m\u001b[0;34m\u001b[0m\u001b[0m\n\u001b[0m\u001b[1;32m      3\u001b[0m \u001b[0mcambium\u001b[0m \u001b[0;34m=\u001b[0m \u001b[0mCambium\u001b[0m\u001b[0;34m(\u001b[0m\u001b[0mcambium_df\u001b[0m\u001b[0;34m,\u001b[0m \u001b[0;34m'inter'\u001b[0m\u001b[0;34m,\u001b[0m \u001b[0;34m'western'\u001b[0m\u001b[0;34m,\u001b[0m \u001b[0mresource_file\u001b[0m\u001b[0;34m)\u001b[0m\u001b[0;34m\u001b[0m\u001b[0;34m\u001b[0m\u001b[0m\n\u001b[1;32m      4\u001b[0m \u001b[0mcambium\u001b[0m\u001b[0;34m.\u001b[0m\u001b[0mclean\u001b[0m\u001b[0;34m(\u001b[0m\u001b[0;34m)\u001b[0m\u001b[0;34m\u001b[0m\u001b[0;34m\u001b[0m\u001b[0m\n",
      "\u001b[0;32m/srv/data/home/skoebric/vapor-open/vapor/datafetcher.py\u001b[0m in \u001b[0;36mload_cambium_data\u001b[0;34m(aggregate_region, scenario, inflation, save_processed, cambium_path)\u001b[0m\n\u001b[1;32m     39\u001b[0m                       save_processed=True, cambium_path=None):\n\u001b[1;32m     40\u001b[0m     \u001b[0;34m\"\"\"Turn cambium data into a single long_df.\"\"\"\u001b[0m\u001b[0;34m\u001b[0m\u001b[0;34m\u001b[0m\u001b[0m\n\u001b[0;32m---> 41\u001b[0;31m     \u001b[0;32massert\u001b[0m \u001b[0mscenario\u001b[0m \u001b[0;32min\u001b[0m \u001b[0;34m[\u001b[0m\u001b[0;34m'StdScen19_High_RE_Cost'\u001b[0m\u001b[0;34m,\u001b[0m\u001b[0;34m'StdScen19_Low_RE_Cost'\u001b[0m\u001b[0;34m,\u001b[0m\u001b[0;34m'StdScen19_Mid_Case'\u001b[0m\u001b[0;34m]\u001b[0m\u001b[0;34m\u001b[0m\u001b[0;34m\u001b[0m\u001b[0m\n\u001b[0m\u001b[1;32m     42\u001b[0m     \u001b[0;32mif\u001b[0m \u001b[0mcambium_path\u001b[0m \u001b[0;34m==\u001b[0m \u001b[0;32mNone\u001b[0m\u001b[0;34m:\u001b[0m \u001b[0;31m#Deal with possible user passed path\u001b[0m\u001b[0;34m\u001b[0m\u001b[0;34m\u001b[0m\u001b[0m\n\u001b[1;32m     43\u001b[0m         \u001b[0mcambium_path\u001b[0m \u001b[0;34m=\u001b[0m \u001b[0mos\u001b[0m\u001b[0;34m.\u001b[0m\u001b[0mpath\u001b[0m\u001b[0;34m.\u001b[0m\u001b[0mjoin\u001b[0m\u001b[0;34m(\u001b[0m\u001b[0;34m'data'\u001b[0m\u001b[0;34m,\u001b[0m\u001b[0;34m'cambium_processed'\u001b[0m\u001b[0;34m,\u001b[0m\u001b[0;34mf\"{scenario}_{aggregate_region}.pkl\"\u001b[0m\u001b[0;34m)\u001b[0m\u001b[0;34m\u001b[0m\u001b[0;34m\u001b[0m\u001b[0m\n",
      "\u001b[0;31mAssertionError\u001b[0m: "
     ]
    }
   ],
   "source": [
    "resource_file = 'data/PySAM Downloaded Weather Files/-71.812_42.257_psm3_60_tmy.csv'\n",
    "cambium_df = datafetcher.load_cambium_data(aggregate_region='inter', scenario='StdScen20_MidCase')\n",
    "cambium = Cambium(cambium_df, 'inter', 'western', resource_file)\n",
    "cambium.clean()"
   ]
  },
  {
   "cell_type": "code",
   "execution_count": null,
   "metadata": {},
   "outputs": [],
   "source": [
    "\n",
    "\n",
    "nrel_color_dict = ['#0077C8', #darkblue\n",
    "                '#00A9E0', #lightblue\n",
    "                '#658D1B', #darkgreen\n",
    "                '#84BD00', #lightgreen\n",
    "                '#FFC72C', #yellow\n",
    "                '#DE7C00', #orange\n",
    "                '#5B6770', #darkgray\n",
    "                '#C1C6C8'] #lightgray\n",
    "\n",
    "tech_dict = {'pv':nrel_color_dict[4],\n",
    "            'wind':nrel_color_dict[1],\n",
    "            'batt':nrel_color_dict[3]}\n",
    "\n",
    "batt_system_config = {\n",
    "    'SystemDesign': {\n",
    "        'dc_ac_ratio': 1.2,\n",
    "        'subarray1_azimuth': 180.0,\n",
    "        'subarray1_tilt': 0, \n",
    "        'subarray1_track_mode': 1, \n",
    "        'system_capacity': 100000, \n",
    "        'subarray1_backtrack': 0, \n",
    "        'subarray1_nstrings': 26881, \n",
    "        'inverter_count': 1388}, \n",
    "    'BatteryTools': {\n",
    "        'desired_power': 25000.0, \n",
    "        'desired_capacity': 4, \n",
    "        'desired_voltage': 500},\n",
    "    'BatterySystem': {\n",
    "        'en_batt': 1, \n",
    "        'batt_meter_position': 0\n",
    "    }\n",
    "}\n",
    "\n",
    "\n",
    "batt_model = PVMerchantPlant(batt_system_config, resource_file, cambium, 'western')\n",
    "batt_model.execute_all()\n"
   ]
  },
  {
   "cell_type": "code",
   "execution_count": null,
   "metadata": {},
   "outputs": [],
   "source": [
    "batt_model.battery.Outputs.batt_bank_installed_capacity"
   ]
  },
  {
   "cell_type": "code",
   "execution_count": null,
   "metadata": {},
   "outputs": [],
   "source": [
    "from matplotlib import gridspec\n",
    "import seaborn as sns\n",
    "\n",
    "sns.set_style('whitegrid')\n",
    "\n",
    "batt_ts = pd.DataFrame({\n",
    "    'load':batt_model.load.as_array(),\n",
    "    'batt_to_load':batt_model.battery.Outputs.batt_to_load[0:8760],\n",
    "    'pv_to_batt':batt_model.battery.Outputs.pv_to_batt[0:8760],\n",
    "    'pv_to_grid':batt_model.battery.Outputs.pv_to_grid[0:8760],\n",
    "    'pv_to_load':batt_model.battery.Outputs.pv_to_load[0:8760],\n",
    "    'gen':batt_model.generator.Outputs.gen[0:8760],\n",
    "    'soc':batt_model.generator.Outputs.batt_SOC[0:8760],\n",
    "    'market_profile':[i[1] for i in batt_model.market_profile[0:8760]]\n",
    "})\n",
    "batt_ts[['load','batt_to_load','pv_to_batt', 'pv_to_grid','pv_to_load','gen']] /= 1e3\n",
    "batt_ts['self_consume'] = batt_ts['batt_to_load'] + batt_ts['pv_to_load']\n",
    "batt_ts['total_gen'] = batt_ts['self_consume'] + batt_ts['pv_to_grid'] + batt_ts['pv_to_batt']\n",
    "\n",
    "batt_ts = batt_ts[(30*24*3):(30*24*3)+(24*14)]\n",
    "batt_ts.reset_index(inplace=True)\n",
    "\n",
    "fig = plt.figure(figsize=(9,5), dpi=200)\n",
    "gs = gridspec.GridSpec(3,1, height_ratios=[3,1,1])\n",
    "ax1 = plt.subplot(gs[0])\n",
    "ax2 = plt.subplot(gs[1])\n",
    "ax3 = plt.subplot(gs[2])\n",
    "\n",
    "x = batt_ts.index\n",
    "zeros = np.zeros_like(x)\n",
    "\n",
    "\n",
    "gen = ax1.step(x, batt_ts['total_gen'], label='Generation', linewidth=3, where='pre', color=nrel_color_dict[5])\n",
    "load = ax1.plot(batt_ts['load'], label='Flat Load Profile', linewidth=3, color=nrel_color_dict[0])\n",
    "\n",
    "ax1.fill_between(x, zeros, batt_ts['pv_to_load'],\n",
    "                 label='PV to Load', step='pre',\n",
    "                 color=nrel_color_dict[4])\n",
    "\n",
    "ax1.fill_between(x, batt_ts['pv_to_load'], batt_ts['self_consume'],\n",
    "                 label='Batt to Load', step='pre',\n",
    "                 color=nrel_color_dict[3])\n",
    "\n",
    "ax1.fill_between(x, batt_ts['load']+batt_ts['pv_to_batt'], batt_ts['total_gen'],\n",
    "                 where=(batt_ts['total_gen'] > batt_ts['load']+batt_ts['pv_to_batt']), \n",
    "                 label='PV to Grid', step='pre',\n",
    "                 color=nrel_color_dict[4], alpha=0.5)\n",
    "\n",
    "ax1.fill_between(x, batt_ts['load'], batt_ts['load']+batt_ts['pv_to_batt'],\n",
    "                 where=batt_ts['total_gen'] >= batt_ts['load'],\n",
    "                 label='PV to Batt', step='pre',\n",
    "                 color=nrel_color_dict[3], alpha=0.5)\n",
    "\n",
    "ax1.set_ylabel('System Generation (MW)', size=9)\n",
    "\n",
    "\n",
    "ax2.plot(batt_ts['soc'], linestyle='--', linewidth=3, color=nrel_color_dict[1])\n",
    "ax2.set_ylim(0,101)\n",
    "ax2.set_ylabel('Battery Percent\\nState of Charge', size=9)\n",
    "\n",
    "ax3.step(x, batt_ts['market_profile'], linewidth=3, where='pre', color=nrel_color_dict[2])\n",
    "ax3.set_ylabel('Cambium\\n($/MWh)', size=9)\n",
    "ax3.set_xlabel('Hours', size=11)\n",
    "\n",
    "plt.setp(ax1.get_xticklabels(), visible=False)\n",
    "plt.setp(ax2.get_xticklabels(), visible=False)\n",
    "fig.tight_layout()\n",
    "\n",
    "ax1.legend(bbox_to_anchor=(1.01, 1.02), loc='upper left')\n",
    "\n",
    "# ax1_handles, ax1_labels = ax1.get_legend_handles_labels()\n",
    "# ax2_handles, ax2_labels = ax2.get_legend_handles_labels()\n",
    "# fig.legend(ax1_handles+ax2_handles, ax1_labels+ax2_labels, bbox_to_anchor=(0.98, 0.99), loc='upper left')\n",
    "\n"
   ]
  },
  {
   "cell_type": "code",
   "execution_count": null,
   "metadata": {},
   "outputs": [],
   "source": [
    "no_batt_system_config = {\n",
    "    'SystemDesign': {\n",
    "        'dc_ac_ratio': 1.2,\n",
    "        'subarray1_azimuth': 180.0,\n",
    "        'subarray1_tilt': 0, \n",
    "        'subarray1_track_mode': 1, \n",
    "        'system_capacity': 100000, \n",
    "        'subarray1_backtrack': 0, \n",
    "        'subarray1_nstrings': 26881, \n",
    "        'inverter_count': 1388}, \n",
    "    'BatteryTools': {\n",
    "        'desired_power': 0,\n",
    "        'desired_capacity': 0, \n",
    "        'desired_voltage': 500},\n",
    "    'BatterySystem': {\n",
    "        'en_batt': 0, \n",
    "        'no_batt_meter_position': 0\n",
    "    }\n",
    "}\n",
    "\n",
    "resource_file = 'data/PySAM Downloaded Weather Files/-89.578_39.394_psm3_60_tmy.csv'\n",
    "\n",
    "no_batt_model = PVMerchantPlant(no_batt_system_config, resource_file, cambium, 'western')\n",
    "no_batt_model.execute_all()\n",
    "\n",
    "no_batt_ts = pd.DataFrame({\n",
    "    'load':no_batt_model.load.as_array(),\n",
    "    'gen':no_batt_model.generator.Outputs.gen[8760:8760*2]\n",
    "})\n",
    "\n",
    "fig, ax = plt.subplots(figsize=(12,9))\n",
    "no_batt_ts[24*180:(24*180)+(24*3)].plot(ax=ax)\n",
    "ax.legend(loc='center left', bbox_to_anchor=(1, 0.5))\n",
    "\n"
   ]
  },
  {
   "cell_type": "code",
   "execution_count": null,
   "metadata": {},
   "outputs": [],
   "source": []
  }
 ],
 "metadata": {
  "kernelspec": {
   "display_name": "Python 3",
   "language": "python",
   "name": "python3"
  },
  "language_info": {
   "codemirror_mode": {
    "name": "ipython",
    "version": 3
   },
   "file_extension": ".py",
   "mimetype": "text/x-python",
   "name": "python",
   "nbconvert_exporter": "python",
   "pygments_lexer": "ipython3",
   "version": "3.8.5"
  },
  "varInspector": {
   "cols": {
    "lenName": 16,
    "lenType": 16,
    "lenVar": 40
   },
   "kernels_config": {
    "python": {
     "delete_cmd_postfix": "",
     "delete_cmd_prefix": "del ",
     "library": "var_list.py",
     "varRefreshCmd": "print(var_dic_list())"
    },
    "r": {
     "delete_cmd_postfix": ") ",
     "delete_cmd_prefix": "rm(",
     "library": "var_list.r",
     "varRefreshCmd": "cat(var_dic_list()) "
    }
   },
   "types_to_exclude": [
    "module",
    "function",
    "builtin_function_or_method",
    "instance",
    "_Feature"
   ],
   "window_display": false
  }
 },
 "nbformat": 4,
 "nbformat_minor": 2
}
